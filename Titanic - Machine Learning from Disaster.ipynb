{
 "cells": [
  {
   "cell_type": "code",
   "execution_count": 1,
   "metadata": {
    "_cell_guid": "b1076dfc-b9ad-4769-8c92-a6c4dae69d19",
    "_uuid": "8f2839f25d086af736a60e9eeb907d3b93b6e0e5",
    "execution": {
     "iopub.execute_input": "2022-04-05T16:40:52.755365Z",
     "iopub.status.busy": "2022-04-05T16:40:52.755155Z",
     "iopub.status.idle": "2022-04-05T16:40:52.775687Z",
     "shell.execute_reply": "2022-04-05T16:40:52.774541Z",
     "shell.execute_reply.started": "2022-04-05T16:40:52.755343Z"
    }
   },
   "outputs": [],
   "source": [
    "import math\n",
    "# This Python 3 environment comes with many helpful analytics libraries installed\n",
    "# It is defined by the kaggle/python Docker image: https://github.com/kaggle/docker-python\n",
    "# For example, here's several helpful packages to load\n",
    "\n",
    "# import numpy as np # lineaBLUEr algebra\n",
    "# import pandas as pd # data processing, CSV file I/O (e.g. pd.read_csv)\n",
    "import random as rnd\n",
    "\n",
    "# Input data files are available in the read-only \"../input/\" directory\n",
    "# For example, running this (by clicking run or pressing Shift+Enter) will list all files under the input directory\n",
    "\n",
    "import os\n",
    "for dirname, _, filenames in os.walk('/kaggle/input'):\n",
    "    for filename in filenames:\n",
    "        print(os.path.join(dirname, filename))\n",
    "\n",
    "# You can write up to 20GB to the current directory (/kaggle/working/) that gets preserved as output when you create a version using \"Save & Run All\" \n",
    "# You can also write temporary files to /kaggle/temp/, but they won't be saved outside of the current session\n",
    "\n",
    "# Imports:\n",
    "# data analysis and wrangling\n",
    "import pandas as pd\n",
    "import numpy as np\n",
    "import random as rnd\n",
    " \n",
    "# visualization\n",
    "import seaborn as sns\n",
    "import matplotlib.pyplot as plt\n",
    " \n",
    "# machine learning\n",
    "from sklearn.linear_model import LogisticRegression\n",
    "from sklearn.svm import SVC, LinearSVC\n",
    "from sklearn.ensemble import RandomForestClassifier\n",
    "from sklearn.neighbors import KNeighborsClassifier\n",
    "from sklearn.naive_bayes import GaussianNB\n",
    "from sklearn.linear_model import Perceptron\n",
    "from sklearn.linear_model import SGDClassifier\n",
    "from sklearn.tree import DecisionTreeClassifier\n",
    "\n",
    "\n",
    "# Read data:\n",
    "train_df = pd.read_csv('./input/train.csv')\n",
    "test_df = pd.read_csv('./input/test.csv')\n",
    "#combine = {\"train_df\": train_df, \"test_df\": test_df}\n"
   ]
  },
  {
   "cell_type": "markdown",
   "metadata": {},
   "source": [
    "# Pre-processing"
   ]
  },
  {
   "cell_type": "code",
   "execution_count": 2,
   "metadata": {
    "execution": {
     "iopub.execute_input": "2022-04-05T16:40:52.777873Z",
     "iopub.status.busy": "2022-04-05T16:40:52.777419Z",
     "iopub.status.idle": "2022-04-05T16:40:52.787116Z",
     "shell.execute_reply": "2022-04-05T16:40:52.786530Z",
     "shell.execute_reply.started": "2022-04-05T16:40:52.777848Z"
    }
   },
   "outputs": [],
   "source": [
    "# Drop irrelevant coulomns\n",
    "train_df.drop(columns=['PassengerId', 'Ticket', 'Fare', 'Embarked', 'Cabin'], inplace=True)\n",
    "test_df.drop(columns=['PassengerId', 'Ticket', 'Fare', 'Embarked', 'Cabin'], inplace=True)"
   ]
  },
  {
   "cell_type": "code",
   "execution_count": 3,
   "metadata": {
    "execution": {
     "iopub.execute_input": "2022-04-05T16:40:52.788384Z",
     "iopub.status.busy": "2022-04-05T16:40:52.788040Z",
     "iopub.status.idle": "2022-04-05T16:40:52.807158Z",
     "shell.execute_reply": "2022-04-05T16:40:52.805941Z",
     "shell.execute_reply.started": "2022-04-05T16:40:52.788360Z"
    }
   },
   "outputs": [],
   "source": [
    "# Turn 'Sex' coulmn to 0,1 numeric values \n",
    "train_df['Sex'].replace({'male': 1, 'female': 0}, inplace=True)\n",
    "test_df['Sex'].replace({'male': 1, 'female': 0}, inplace=True)"
   ]
  },
  {
   "cell_type": "code",
   "execution_count": 4,
   "metadata": {
    "execution": {
     "iopub.execute_input": "2022-04-05T16:40:52.808626Z",
     "iopub.status.busy": "2022-04-05T16:40:52.808369Z",
     "iopub.status.idle": "2022-04-05T16:40:53.166035Z",
     "shell.execute_reply": "2022-04-05T16:40:53.165581Z",
     "shell.execute_reply.started": "2022-04-05T16:40:52.808599Z"
    }
   },
   "outputs": [],
   "source": [
    "# Functions that gets a Pandas dataframe with column 'Name'\n",
    "# and extracts a title from the name (only extract TOP 4 main titles)\n",
    "# @param: df (pd.DataFrame) with column 'Name'\n",
    "# @return: df (pd.DataFrame)\n",
    "def getTitle(df: pd.DataFrame) -> pd.DataFrame:\n",
    "    for r in df['Name']:\n",
    "        if \"Mr.\" in r:\n",
    "            df['Name'].replace(r, \"Mr.\", inplace=True)  # 517 occurrences in train_df\n",
    "        elif \"Mrs.\" in r:\n",
    "            df['Name'].replace(r, \"Mrs.\", inplace=True)  # 125 occurrences in train_df\n",
    "        elif \"Miss.\" in r:\n",
    "            df['Name'].replace(r, \"Miss.\", inplace=True)  # 182 occurrences in train_df\n",
    "        elif \"Master\" in r:\n",
    "            df['Name'].replace(r, \"Master\", inplace=True)  # 40 occurrences in train_df\n",
    "        else:  # 27 occurrences in train_df\n",
    "            df['Name'].replace(r, \"Other\", inplace=True)\n",
    "    df.rename(columns={'Name':'Title'}, inplace=True)\n",
    "    return df\n",
    "\n",
    "# Call dataframes to getTitle function\n",
    "train_df = getTitle(train_df)\n",
    "test_df = getTitle(test_df)\n",
    "\n",
    "\n",
    "    # # Functions that gets a Pandas dataframe with column 'Name'\n",
    "    # # and extracts a title from the name (extract ALL possible titles)\n",
    "    # # @param: df (pd.DataFrame) with column 'Name'\n",
    "    # # @return: df (pd.DataFrame)\n",
    "    # def getTitle_fullSplit(df: pd.DataFrame) -> pd.DataFrame:\n",
    "    #     import re\n",
    "    #     for row in df[\"Name\"]:\n",
    "    #         title = re.search(\", [A-Za-z\\s]+\\.\", row).group()  \n",
    "    #         title = re.sub(r'[^a-zA-Z]', '', title)\n",
    "    #         df[\"Name\"].replace(row, title, inplace=True) \n",
    "    #     df.rename(columns={'Name':'Title'}, inplace=True)\n",
    "    #     return df\n",
    "\n",
    "    # # Call dataframes to getTitle_fullSplit function\n",
    "    # train_df = getTitle_fullSplit(train_df)\n",
    "    # test_df = getTitle_fullSplit(test_df)"
   ]
  },
  {
   "cell_type": "code",
   "execution_count": 5,
   "metadata": {
    "execution": {
     "iopub.execute_input": "2022-04-05T16:40:53.729730Z",
     "iopub.status.busy": "2022-04-05T16:40:53.729272Z",
     "iopub.status.idle": "2022-04-05T16:40:53.748890Z",
     "shell.execute_reply": "2022-04-05T16:40:53.748157Z",
     "shell.execute_reply.started": "2022-04-05T16:40:53.729702Z"
    }
   },
   "outputs": [],
   "source": [
    "# Split the categorical column 'title' into true/false columns, \n",
    "# each column represents a diffrenet title.  \n",
    "train_df = pd.concat([train_df, pd.get_dummies(train_df['Title'])], axis=1)\n",
    "train_df.drop(columns=['Title'], inplace=True)\n",
    "test_df = pd.concat([test_df, pd.get_dummies(test_df['Title'])], axis=1)\n",
    "test_df.drop(columns=['Title'], inplace=True)\n",
    "\n",
    "# # Change each title to numeric value\n",
    "# train_df['Title'].replace({'Mr.': 0, 'Mrs.': 1, \"Miss.\": 2, \"Master\": 3, \"Other\": 4}, inplace=True)\n",
    "# test_df['Title'].replace({'Mr.': 0, 'Mrs.': 1, \"Miss.\": 2, \"Master\": 3, \"Other\": 4}, inplace=True)\n",
    "\n",
    "\n",
    "# train_df.head()"
   ]
  },
  {
   "cell_type": "markdown",
   "metadata": {},
   "source": [
    "### fill missing values in age with mean of the relevant Pclass and Age"
   ]
  },
  {
   "cell_type": "code",
   "execution_count": 6,
   "metadata": {},
   "outputs": [
    {
     "data": {
      "text/html": [
       "<div>\n",
       "<style scoped>\n",
       "    .dataframe tbody tr th:only-of-type {\n",
       "        vertical-align: middle;\n",
       "    }\n",
       "\n",
       "    .dataframe tbody tr th {\n",
       "        vertical-align: top;\n",
       "    }\n",
       "\n",
       "    .dataframe thead th {\n",
       "        text-align: right;\n",
       "    }\n",
       "</style>\n",
       "<table border=\"1\" class=\"dataframe\">\n",
       "  <thead>\n",
       "    <tr style=\"text-align: right;\">\n",
       "      <th></th>\n",
       "      <th>Survived</th>\n",
       "      <th>Pclass</th>\n",
       "      <th>Sex</th>\n",
       "      <th>Age</th>\n",
       "      <th>SibSp</th>\n",
       "      <th>Parch</th>\n",
       "      <th>Master</th>\n",
       "      <th>Miss.</th>\n",
       "      <th>Mr.</th>\n",
       "      <th>Mrs.</th>\n",
       "      <th>Other</th>\n",
       "    </tr>\n",
       "  </thead>\n",
       "  <tbody>\n",
       "    <tr>\n",
       "      <th>0</th>\n",
       "      <td>0</td>\n",
       "      <td>3</td>\n",
       "      <td>1</td>\n",
       "      <td>22.000000</td>\n",
       "      <td>1</td>\n",
       "      <td>0</td>\n",
       "      <td>0</td>\n",
       "      <td>0</td>\n",
       "      <td>1</td>\n",
       "      <td>0</td>\n",
       "      <td>0</td>\n",
       "    </tr>\n",
       "    <tr>\n",
       "      <th>1</th>\n",
       "      <td>1</td>\n",
       "      <td>1</td>\n",
       "      <td>0</td>\n",
       "      <td>38.000000</td>\n",
       "      <td>1</td>\n",
       "      <td>0</td>\n",
       "      <td>0</td>\n",
       "      <td>0</td>\n",
       "      <td>0</td>\n",
       "      <td>1</td>\n",
       "      <td>0</td>\n",
       "    </tr>\n",
       "    <tr>\n",
       "      <th>2</th>\n",
       "      <td>1</td>\n",
       "      <td>3</td>\n",
       "      <td>0</td>\n",
       "      <td>26.000000</td>\n",
       "      <td>0</td>\n",
       "      <td>0</td>\n",
       "      <td>0</td>\n",
       "      <td>1</td>\n",
       "      <td>0</td>\n",
       "      <td>0</td>\n",
       "      <td>0</td>\n",
       "    </tr>\n",
       "    <tr>\n",
       "      <th>3</th>\n",
       "      <td>1</td>\n",
       "      <td>1</td>\n",
       "      <td>0</td>\n",
       "      <td>35.000000</td>\n",
       "      <td>1</td>\n",
       "      <td>0</td>\n",
       "      <td>0</td>\n",
       "      <td>0</td>\n",
       "      <td>0</td>\n",
       "      <td>1</td>\n",
       "      <td>0</td>\n",
       "    </tr>\n",
       "    <tr>\n",
       "      <th>4</th>\n",
       "      <td>0</td>\n",
       "      <td>3</td>\n",
       "      <td>1</td>\n",
       "      <td>35.000000</td>\n",
       "      <td>0</td>\n",
       "      <td>0</td>\n",
       "      <td>0</td>\n",
       "      <td>0</td>\n",
       "      <td>1</td>\n",
       "      <td>0</td>\n",
       "      <td>0</td>\n",
       "    </tr>\n",
       "    <tr>\n",
       "      <th>5</th>\n",
       "      <td>0</td>\n",
       "      <td>3</td>\n",
       "      <td>1</td>\n",
       "      <td>26.507589</td>\n",
       "      <td>0</td>\n",
       "      <td>0</td>\n",
       "      <td>0</td>\n",
       "      <td>0</td>\n",
       "      <td>1</td>\n",
       "      <td>0</td>\n",
       "      <td>0</td>\n",
       "    </tr>\n",
       "    <tr>\n",
       "      <th>6</th>\n",
       "      <td>0</td>\n",
       "      <td>1</td>\n",
       "      <td>1</td>\n",
       "      <td>54.000000</td>\n",
       "      <td>0</td>\n",
       "      <td>0</td>\n",
       "      <td>0</td>\n",
       "      <td>0</td>\n",
       "      <td>1</td>\n",
       "      <td>0</td>\n",
       "      <td>0</td>\n",
       "    </tr>\n",
       "    <tr>\n",
       "      <th>7</th>\n",
       "      <td>0</td>\n",
       "      <td>3</td>\n",
       "      <td>1</td>\n",
       "      <td>2.000000</td>\n",
       "      <td>3</td>\n",
       "      <td>1</td>\n",
       "      <td>1</td>\n",
       "      <td>0</td>\n",
       "      <td>0</td>\n",
       "      <td>0</td>\n",
       "      <td>0</td>\n",
       "    </tr>\n",
       "    <tr>\n",
       "      <th>8</th>\n",
       "      <td>1</td>\n",
       "      <td>3</td>\n",
       "      <td>0</td>\n",
       "      <td>27.000000</td>\n",
       "      <td>0</td>\n",
       "      <td>2</td>\n",
       "      <td>0</td>\n",
       "      <td>0</td>\n",
       "      <td>0</td>\n",
       "      <td>1</td>\n",
       "      <td>0</td>\n",
       "    </tr>\n",
       "    <tr>\n",
       "      <th>9</th>\n",
       "      <td>1</td>\n",
       "      <td>2</td>\n",
       "      <td>0</td>\n",
       "      <td>14.000000</td>\n",
       "      <td>1</td>\n",
       "      <td>0</td>\n",
       "      <td>0</td>\n",
       "      <td>0</td>\n",
       "      <td>0</td>\n",
       "      <td>1</td>\n",
       "      <td>0</td>\n",
       "    </tr>\n",
       "  </tbody>\n",
       "</table>\n",
       "</div>"
      ],
      "text/plain": [
       "   Survived  Pclass  Sex        Age  SibSp  Parch  Master  Miss.  Mr.  Mrs.  \\\n",
       "0         0       3    1  22.000000      1      0       0      0    1     0   \n",
       "1         1       1    0  38.000000      1      0       0      0    0     1   \n",
       "2         1       3    0  26.000000      0      0       0      1    0     0   \n",
       "3         1       1    0  35.000000      1      0       0      0    0     1   \n",
       "4         0       3    1  35.000000      0      0       0      0    1     0   \n",
       "5         0       3    1  26.507589      0      0       0      0    1     0   \n",
       "6         0       1    1  54.000000      0      0       0      0    1     0   \n",
       "7         0       3    1   2.000000      3      1       1      0    0     0   \n",
       "8         1       3    0  27.000000      0      2       0      0    0     1   \n",
       "9         1       2    0  14.000000      1      0       0      0    0     1   \n",
       "\n",
       "   Other  \n",
       "0      0  \n",
       "1      0  \n",
       "2      0  \n",
       "3      0  \n",
       "4      0  \n",
       "5      0  \n",
       "6      0  \n",
       "7      0  \n",
       "8      0  \n",
       "9      0  "
      ]
     },
     "execution_count": 6,
     "metadata": {},
     "output_type": "execute_result"
    }
   ],
   "source": [
    "def fillna_age(df: pd.DataFrame) -> pd.DataFrame:\n",
    "    # Calculate all relevant means values of each Pclass by Sex in df\n",
    "    p1_women_mean = df[(df[\"Pclass\"] == 1) & (df[\"Sex\"] == 0)][\"Age\"].mean()\n",
    "    p1_men_mean = df[(df[\"Pclass\"] == 1) & (df[\"Sex\"] == 1)][\"Age\"].mean()\n",
    "    p2_women_mean = df[(df[\"Pclass\"] == 2) & (df[\"Sex\"] == 0)][\"Age\"].mean()\n",
    "    p2_men_mean = df[(df[\"Pclass\"] == 2) & (df[\"Sex\"] == 1)][\"Age\"].mean()\n",
    "    p3_women_mean = df[(df[\"Pclass\"] == 3) & (df[\"Sex\"] == 0)][\"Age\"].mean()\n",
    "    p3_men_mean = df[(df[\"Pclass\"] == 3) & (df[\"Sex\"] == 1)][\"Age\"].mean()\n",
    "    \n",
    "    # set missing NaN values according to relevant Pclass by Sex\n",
    "    df.loc[(df[\"Pclass\"] == 1) & (df[\"Sex\"] == 0), \"Age\"] = df.loc[(df[\"Pclass\"] == 1) & (df[\"Sex\"] == 0), \"Age\"].apply(lambda x: x if not np.isnan(x) else p1_women_mean)\n",
    "    df.loc[(df[\"Pclass\"] == 1) & (df[\"Sex\"] == 1), \"Age\"] = df.loc[(df[\"Pclass\"] == 1) & (df[\"Sex\"] == 1), \"Age\"].apply(lambda x: x if not np.isnan(x) else p1_men_mean)\n",
    "    df.loc[(df[\"Pclass\"] == 2) & (df[\"Sex\"] == 0), \"Age\"] = df.loc[(df[\"Pclass\"] == 2) & (df[\"Sex\"] == 0), \"Age\"].apply(lambda x: x if not np.isnan(x) else p2_women_mean)\n",
    "    df.loc[(df[\"Pclass\"] == 2) & (df[\"Sex\"] == 1), \"Age\"] = df.loc[(df[\"Pclass\"] == 2) & (df[\"Sex\"] == 1), \"Age\"].apply(lambda x: x if not np.isnan(x) else p2_men_mean)\n",
    "    df.loc[(df[\"Pclass\"] == 3) & (df[\"Sex\"] == 0), \"Age\"] = df.loc[(df[\"Pclass\"] == 3) & (df[\"Sex\"] == 0), \"Age\"].apply(lambda x: x if not np.isnan(x) else p3_women_mean)\n",
    "    df.loc[(df[\"Pclass\"] == 3) & (df[\"Sex\"] == 1), \"Age\"] = df.loc[(df[\"Pclass\"] == 3) & (df[\"Sex\"] == 1), \"Age\"].apply(lambda x: x if not np.isnan(x) else p3_men_mean)\n",
    "\n",
    "    return df\n",
    "    \n",
    "train_df = fillna_age(train_df)\n",
    "test_df = fillna_age(test_df)\n",
    "\n",
    "\n",
    "    # # --This options disregards the Sex of the passanger--\n",
    "    # # Testing have found that this gets lower scores when running the models\n",
    "\n",
    "    # def fillna_age(df: pd.DataFrame) -> pd.DataFrame:\n",
    "    #     # Calculate all relevant means values of each Pclass in df\n",
    "    #     p1_mean = df[df[\"Pclass\"] == 1][\"Age\"].mean()\n",
    "    #     p2_mean = df[df[\"Pclass\"] == 2][\"Age\"].mean()\n",
    "    #     p3_mean = df[df[\"Pclass\"] == 3][\"Age\"].mean()\n",
    "\n",
    "    #     # set missing NaN values according to relevant Pclass\n",
    "    #     df.loc[df[\"Pclass\"] == 1, \"Age\"] = df.loc[df[\"Pclass\"] == 1, \"Age\"].apply(lambda x: x if not np.isnan(x) else p1_mean)\n",
    "    #     df.loc[df[\"Pclass\"] == 2, \"Age\"] = df.loc[df[\"Pclass\"] == 2, \"Age\"].apply(lambda x: x if not np.isnan(x) else p2_mean)\n",
    "    #     df.loc[df[\"Pclass\"] == 3, \"Age\"] = df.loc[df[\"Pclass\"] == 3, \"Age\"].apply(lambda x: x if not np.isnan(x) else p3_mean)\n",
    "\n",
    "    #     return df\n",
    "\n",
    "    # train_df = fillna_age(train_df)\n",
    "    # test_df = fillna_age(test_df)\n",
    "\n",
    "train_df.head(10)\n",
    "# Notice passanger with ID == 5 got his Age set with the avarege of all 3rd class male passanger."
   ]
  },
  {
   "cell_type": "markdown",
   "metadata": {},
   "source": [
    "### Test Correlations"
   ]
  },
  {
   "cell_type": "code",
   "execution_count": 7,
   "metadata": {
    "execution": {
     "iopub.execute_input": "2022-04-05T16:40:53.167314Z",
     "iopub.status.busy": "2022-04-05T16:40:53.167012Z",
     "iopub.status.idle": "2022-04-05T16:40:53.182843Z",
     "shell.execute_reply": "2022-04-05T16:40:53.182117Z",
     "shell.execute_reply.started": "2022-04-05T16:40:53.167274Z"
    }
   },
   "outputs": [],
   "source": [
    "# # Test correlation between 'Survives' and 'Title'\n",
    "# train_df[[\"Title\", \"Survived\"]].groupby('Title', as_index=False).mean().sort_values(by=\"Survived\", ascending=False)\n",
    "# # --> Low correlation between tags (of same gender) and survival"
   ]
  },
  {
   "cell_type": "code",
   "execution_count": 8,
   "metadata": {
    "execution": {
     "iopub.execute_input": "2022-04-05T16:40:53.200503Z",
     "iopub.status.busy": "2022-04-05T16:40:53.200288Z",
     "iopub.status.idle": "2022-04-05T16:40:53.633311Z",
     "shell.execute_reply": "2022-04-05T16:40:53.632183Z",
     "shell.execute_reply.started": "2022-04-05T16:40:53.200474Z"
    }
   },
   "outputs": [
    {
     "data": {
      "text/plain": [
       "<seaborn.axisgrid.FacetGrid at 0x1ba3f11dfd0>"
      ]
     },
     "execution_count": 8,
     "metadata": {},
     "output_type": "execute_result"
    },
    {
     "data": {
      "image/png": "[encoded data removed]",
      "text/plain": [
       "<Figure size 432x216 with 2 Axes>"
      ]
     },
     "metadata": {
      "needs_background": "light"
     },
     "output_type": "display_data"
    }
   ],
   "source": [
    "# Test correlation between 'Survives' and 'Age'\n",
    "g = sns.FacetGrid(train_df, col = \"Survived\")\n",
    "g.map(plt.hist, \"Age\", bins=20)\n",
    "# --> Medium correlation (Babies and young adults are more likely to survive)"
   ]
  },
  {
   "cell_type": "code",
   "execution_count": 9,
   "metadata": {
    "execution": {
     "iopub.execute_input": "2022-04-05T16:40:53.634969Z",
     "iopub.status.busy": "2022-04-05T16:40:53.634523Z",
     "iopub.status.idle": "2022-04-05T16:40:53.648020Z",
     "shell.execute_reply": "2022-04-05T16:40:53.647515Z",
     "shell.execute_reply.started": "2022-04-05T16:40:53.634919Z"
    }
   },
   "outputs": [
    {
     "data": {
      "text/html": [
       "<div>\n",
       "<style scoped>\n",
       "    .dataframe tbody tr th:only-of-type {\n",
       "        vertical-align: middle;\n",
       "    }\n",
       "\n",
       "    .dataframe tbody tr th {\n",
       "        vertical-align: top;\n",
       "    }\n",
       "\n",
       "    .dataframe thead th {\n",
       "        text-align: right;\n",
       "    }\n",
       "</style>\n",
       "<table border=\"1\" class=\"dataframe\">\n",
       "  <thead>\n",
       "    <tr style=\"text-align: right;\">\n",
       "      <th></th>\n",
       "      <th>Sex</th>\n",
       "      <th>Survived</th>\n",
       "    </tr>\n",
       "  </thead>\n",
       "  <tbody>\n",
       "    <tr>\n",
       "      <th>0</th>\n",
       "      <td>0</td>\n",
       "      <td>0.742038</td>\n",
       "    </tr>\n",
       "    <tr>\n",
       "      <th>1</th>\n",
       "      <td>1</td>\n",
       "      <td>0.188908</td>\n",
       "    </tr>\n",
       "  </tbody>\n",
       "</table>\n",
       "</div>"
      ],
      "text/plain": [
       "   Sex  Survived\n",
       "0    0  0.742038\n",
       "1    1  0.188908"
      ]
     },
     "execution_count": 9,
     "metadata": {},
     "output_type": "execute_result"
    }
   ],
   "source": [
    "# Test correlation between 'Survives' and 'Sex'\n",
    "train_df[[\"Sex\", \"Survived\"]].groupby(\"Sex\", as_index=False).mean().sort_values(by=\"Survived\", ascending=False)\n",
    "# --> Female passengers are more likely to survive"
   ]
  },
  {
   "cell_type": "code",
   "execution_count": 10,
   "metadata": {
    "execution": {
     "iopub.execute_input": "2022-04-05T16:40:53.649345Z",
     "iopub.status.busy": "2022-04-05T16:40:53.649020Z",
     "iopub.status.idle": "2022-04-05T16:40:53.664819Z",
     "shell.execute_reply": "2022-04-05T16:40:53.663962Z",
     "shell.execute_reply.started": "2022-04-05T16:40:53.649319Z"
    }
   },
   "outputs": [
    {
     "data": {
      "text/html": [
       "<div>\n",
       "<style scoped>\n",
       "    .dataframe tbody tr th:only-of-type {\n",
       "        vertical-align: middle;\n",
       "    }\n",
       "\n",
       "    .dataframe tbody tr th {\n",
       "        vertical-align: top;\n",
       "    }\n",
       "\n",
       "    .dataframe thead th {\n",
       "        text-align: right;\n",
       "    }\n",
       "</style>\n",
       "<table border=\"1\" class=\"dataframe\">\n",
       "  <thead>\n",
       "    <tr style=\"text-align: right;\">\n",
       "      <th></th>\n",
       "      <th>SibSp</th>\n",
       "      <th>Survived</th>\n",
       "    </tr>\n",
       "  </thead>\n",
       "  <tbody>\n",
       "    <tr>\n",
       "      <th>1</th>\n",
       "      <td>1</td>\n",
       "      <td>0.535885</td>\n",
       "    </tr>\n",
       "    <tr>\n",
       "      <th>2</th>\n",
       "      <td>2</td>\n",
       "      <td>0.464286</td>\n",
       "    </tr>\n",
       "    <tr>\n",
       "      <th>0</th>\n",
       "      <td>0</td>\n",
       "      <td>0.345395</td>\n",
       "    </tr>\n",
       "    <tr>\n",
       "      <th>3</th>\n",
       "      <td>3</td>\n",
       "      <td>0.250000</td>\n",
       "    </tr>\n",
       "    <tr>\n",
       "      <th>4</th>\n",
       "      <td>4</td>\n",
       "      <td>0.166667</td>\n",
       "    </tr>\n",
       "    <tr>\n",
       "      <th>5</th>\n",
       "      <td>5</td>\n",
       "      <td>0.000000</td>\n",
       "    </tr>\n",
       "    <tr>\n",
       "      <th>6</th>\n",
       "      <td>8</td>\n",
       "      <td>0.000000</td>\n",
       "    </tr>\n",
       "  </tbody>\n",
       "</table>\n",
       "</div>"
      ],
      "text/plain": [
       "   SibSp  Survived\n",
       "1      1  0.535885\n",
       "2      2  0.464286\n",
       "0      0  0.345395\n",
       "3      3  0.250000\n",
       "4      4  0.166667\n",
       "5      5  0.000000\n",
       "6      8  0.000000"
      ]
     },
     "execution_count": 10,
     "metadata": {},
     "output_type": "execute_result"
    }
   ],
   "source": [
    "# Test correlation between 'Survives' and 'SibSp'\n",
    "train_df[[\"SibSp\", \"Survived\"]].groupby('SibSp', as_index=False).mean().sort_values(by=\"Survived\", ascending=False)\n",
    "# --> High correlation (low sibSp means higher rates of surviving)"
   ]
  },
  {
   "cell_type": "code",
   "execution_count": 11,
   "metadata": {
    "execution": {
     "iopub.execute_input": "2022-04-05T16:40:53.666496Z",
     "iopub.status.busy": "2022-04-05T16:40:53.665910Z",
     "iopub.status.idle": "2022-04-05T16:40:53.685064Z",
     "shell.execute_reply": "2022-04-05T16:40:53.684674Z",
     "shell.execute_reply.started": "2022-04-05T16:40:53.666465Z"
    }
   },
   "outputs": [
    {
     "data": {
      "text/html": [
       "<div>\n",
       "<style scoped>\n",
       "    .dataframe tbody tr th:only-of-type {\n",
       "        vertical-align: middle;\n",
       "    }\n",
       "\n",
       "    .dataframe tbody tr th {\n",
       "        vertical-align: top;\n",
       "    }\n",
       "\n",
       "    .dataframe thead th {\n",
       "        text-align: right;\n",
       "    }\n",
       "</style>\n",
       "<table border=\"1\" class=\"dataframe\">\n",
       "  <thead>\n",
       "    <tr style=\"text-align: right;\">\n",
       "      <th></th>\n",
       "      <th>Parch</th>\n",
       "      <th>Survived</th>\n",
       "    </tr>\n",
       "  </thead>\n",
       "  <tbody>\n",
       "    <tr>\n",
       "      <th>3</th>\n",
       "      <td>3</td>\n",
       "      <td>0.600000</td>\n",
       "    </tr>\n",
       "    <tr>\n",
       "      <th>1</th>\n",
       "      <td>1</td>\n",
       "      <td>0.550847</td>\n",
       "    </tr>\n",
       "    <tr>\n",
       "      <th>2</th>\n",
       "      <td>2</td>\n",
       "      <td>0.500000</td>\n",
       "    </tr>\n",
       "    <tr>\n",
       "      <th>0</th>\n",
       "      <td>0</td>\n",
       "      <td>0.343658</td>\n",
       "    </tr>\n",
       "    <tr>\n",
       "      <th>5</th>\n",
       "      <td>5</td>\n",
       "      <td>0.200000</td>\n",
       "    </tr>\n",
       "    <tr>\n",
       "      <th>4</th>\n",
       "      <td>4</td>\n",
       "      <td>0.000000</td>\n",
       "    </tr>\n",
       "    <tr>\n",
       "      <th>6</th>\n",
       "      <td>6</td>\n",
       "      <td>0.000000</td>\n",
       "    </tr>\n",
       "  </tbody>\n",
       "</table>\n",
       "</div>"
      ],
      "text/plain": [
       "   Parch  Survived\n",
       "3      3  0.600000\n",
       "1      1  0.550847\n",
       "2      2  0.500000\n",
       "0      0  0.343658\n",
       "5      5  0.200000\n",
       "4      4  0.000000\n",
       "6      6  0.000000"
      ]
     },
     "execution_count": 11,
     "metadata": {},
     "output_type": "execute_result"
    }
   ],
   "source": [
    "# Test correlation between 'Survives' and 'Parch'\n",
    "train_df[[\"Parch\", \"Survived\"]].groupby('Parch', as_index=False).mean().sort_values(by=\"Survived\", ascending=False)\n",
    "# --> No correlation"
   ]
  },
  {
   "cell_type": "code",
   "execution_count": 12,
   "metadata": {
    "execution": {
     "iopub.execute_input": "2022-04-05T16:40:53.687098Z",
     "iopub.status.busy": "2022-04-05T16:40:53.686861Z",
     "iopub.status.idle": "2022-04-05T16:40:53.701378Z",
     "shell.execute_reply": "2022-04-05T16:40:53.700519Z",
     "shell.execute_reply.started": "2022-04-05T16:40:53.687077Z"
    }
   },
   "outputs": [
    {
     "data": {
      "text/html": [
       "<div>\n",
       "<style scoped>\n",
       "    .dataframe tbody tr th:only-of-type {\n",
       "        vertical-align: middle;\n",
       "    }\n",
       "\n",
       "    .dataframe tbody tr th {\n",
       "        vertical-align: top;\n",
       "    }\n",
       "\n",
       "    .dataframe thead th {\n",
       "        text-align: right;\n",
       "    }\n",
       "</style>\n",
       "<table border=\"1\" class=\"dataframe\">\n",
       "  <thead>\n",
       "    <tr style=\"text-align: right;\">\n",
       "      <th></th>\n",
       "      <th>Pclass</th>\n",
       "      <th>Survived</th>\n",
       "    </tr>\n",
       "  </thead>\n",
       "  <tbody>\n",
       "    <tr>\n",
       "      <th>0</th>\n",
       "      <td>1</td>\n",
       "      <td>0.629630</td>\n",
       "    </tr>\n",
       "    <tr>\n",
       "      <th>1</th>\n",
       "      <td>2</td>\n",
       "      <td>0.472826</td>\n",
       "    </tr>\n",
       "    <tr>\n",
       "      <th>2</th>\n",
       "      <td>3</td>\n",
       "      <td>0.242363</td>\n",
       "    </tr>\n",
       "  </tbody>\n",
       "</table>\n",
       "</div>"
      ],
      "text/plain": [
       "   Pclass  Survived\n",
       "0       1  0.629630\n",
       "1       2  0.472826\n",
       "2       3  0.242363"
      ]
     },
     "execution_count": 12,
     "metadata": {},
     "output_type": "execute_result"
    }
   ],
   "source": [
    "# Test correlation between 'Survives' and 'Pclass'\n",
    "train_df[[\"Pclass\", \"Survived\"]].groupby('Pclass', as_index=False).mean().sort_values(by=\"Survived\", ascending=False)\n",
    "# --> High correlation (Better survival rates for higher class passangers)"
   ]
  },
  {
   "cell_type": "code",
   "execution_count": 13,
   "metadata": {
    "execution": {
     "iopub.execute_input": "2022-04-05T16:40:53.702923Z",
     "iopub.status.busy": "2022-04-05T16:40:53.702566Z",
     "iopub.status.idle": "2022-04-05T16:40:53.728288Z",
     "shell.execute_reply": "2022-04-05T16:40:53.727719Z",
     "shell.execute_reply.started": "2022-04-05T16:40:53.702890Z"
    }
   },
   "outputs": [
    {
     "data": {
      "text/html": [
       "<div>\n",
       "<style scoped>\n",
       "    .dataframe tbody tr th:only-of-type {\n",
       "        vertical-align: middle;\n",
       "    }\n",
       "\n",
       "    .dataframe tbody tr th {\n",
       "        vertical-align: top;\n",
       "    }\n",
       "\n",
       "    .dataframe thead th {\n",
       "        text-align: right;\n",
       "    }\n",
       "</style>\n",
       "<table border=\"1\" class=\"dataframe\">\n",
       "  <thead>\n",
       "    <tr style=\"text-align: right;\">\n",
       "      <th></th>\n",
       "      <th>Relatives</th>\n",
       "      <th>Survived</th>\n",
       "    </tr>\n",
       "  </thead>\n",
       "  <tbody>\n",
       "    <tr>\n",
       "      <th>3</th>\n",
       "      <td>3</td>\n",
       "      <td>0.724138</td>\n",
       "    </tr>\n",
       "    <tr>\n",
       "      <th>2</th>\n",
       "      <td>2</td>\n",
       "      <td>0.578431</td>\n",
       "    </tr>\n",
       "    <tr>\n",
       "      <th>1</th>\n",
       "      <td>1</td>\n",
       "      <td>0.552795</td>\n",
       "    </tr>\n",
       "    <tr>\n",
       "      <th>6</th>\n",
       "      <td>6</td>\n",
       "      <td>0.333333</td>\n",
       "    </tr>\n",
       "    <tr>\n",
       "      <th>0</th>\n",
       "      <td>0</td>\n",
       "      <td>0.303538</td>\n",
       "    </tr>\n",
       "    <tr>\n",
       "      <th>4</th>\n",
       "      <td>4</td>\n",
       "      <td>0.200000</td>\n",
       "    </tr>\n",
       "    <tr>\n",
       "      <th>5</th>\n",
       "      <td>5</td>\n",
       "      <td>0.136364</td>\n",
       "    </tr>\n",
       "    <tr>\n",
       "      <th>7</th>\n",
       "      <td>7</td>\n",
       "      <td>0.000000</td>\n",
       "    </tr>\n",
       "    <tr>\n",
       "      <th>8</th>\n",
       "      <td>10</td>\n",
       "      <td>0.000000</td>\n",
       "    </tr>\n",
       "  </tbody>\n",
       "</table>\n",
       "</div>"
      ],
      "text/plain": [
       "   Relatives  Survived\n",
       "3          3  0.724138\n",
       "2          2  0.578431\n",
       "1          1  0.552795\n",
       "6          6  0.333333\n",
       "0          0  0.303538\n",
       "4          4  0.200000\n",
       "5          5  0.136364\n",
       "7          7  0.000000\n",
       "8         10  0.000000"
      ]
     },
     "execution_count": 13,
     "metadata": {},
     "output_type": "execute_result"
    }
   ],
   "source": [
    "# Test correlation between 'Survives' and 'Relatives'\n",
    "train_df['Relatives'] = train_df[\"SibSp\"] + train_df[\"Parch\"]\n",
    "train_df[[\"Relatives\", \"Survived\"]].groupby('Relatives', as_index=False).mean().sort_values(by=\"Survived\", ascending=False)\n",
    "test_df['Relatives'] = test_df[\"SibSp\"] + test_df[\"Parch\"]\n",
    "train_df[[\"Relatives\", \"Survived\"]].groupby('Relatives', as_index=False).mean().sort_values(by=\"Survived\", ascending=False)\n",
    "# --> No correlation"
   ]
  },
  {
   "cell_type": "markdown",
   "metadata": {},
   "source": [
    "### **Drop coulms with low correlation with Survived**"
   ]
  },
  {
   "cell_type": "code",
   "execution_count": 14,
   "metadata": {
    "execution": {
     "iopub.execute_input": "2022-04-05T16:40:53.750460Z",
     "iopub.status.busy": "2022-04-05T16:40:53.749894Z",
     "iopub.status.idle": "2022-04-05T16:40:53.759824Z",
     "shell.execute_reply": "2022-04-05T16:40:53.759379Z",
     "shell.execute_reply.started": "2022-04-05T16:40:53.750423Z"
    }
   },
   "outputs": [],
   "source": [
    "# train_df.drop([\"Marital Status\",\"Parch\", \"Relatives\"], axis=1, inplace=True)\n",
    "# test_df.drop([\"Marital Status\",\"Parch\", \"Relatives\"], axis=1, inplace=True)\n",
    "train_df.drop([\"Parch\", \"Relatives\"], axis=1, inplace=True)\n",
    "test_df.drop([\"Parch\", \"Relatives\"], axis=1, inplace=True)"
   ]
  },
  {
   "cell_type": "markdown",
   "metadata": {},
   "source": [
    "# Run models:"
   ]
  },
  {
   "cell_type": "code",
   "execution_count": 15,
   "metadata": {
    "execution": {
     "iopub.execute_input": "2022-04-05T16:40:53.861685Z",
     "iopub.status.busy": "2022-04-05T16:40:53.861384Z",
     "iopub.status.idle": "2022-04-05T16:40:53.907032Z",
     "shell.execute_reply": "2022-04-05T16:40:53.906069Z",
     "shell.execute_reply.started": "2022-04-05T16:40:53.861661Z"
    }
   },
   "outputs": [
    {
     "data": {
      "text/plain": [
       "82.94"
      ]
     },
     "execution_count": 15,
     "metadata": {},
     "output_type": "execute_result"
    }
   ],
   "source": [
    "#LogisticRegression\n",
    "X_train = train_df.drop(\"Survived\", axis=1)\n",
    "Y_train = train_df[\"Survived\"]\n",
    "X_test  = test_df.copy()\n",
    "X_train.shape, Y_train.shape, X_test.shape\n",
    "logreg = LogisticRegression(max_iter=300)\n",
    "logreg.fit(X_train, Y_train)\n",
    "Y_pred_LR = logreg.predict(X_test)\n",
    "acc_log = round(logreg.score(X_train, Y_train) * 100, 2)\n",
    "acc_log"
   ]
  },
  {
   "cell_type": "code",
   "execution_count": 16,
   "metadata": {
    "execution": {
     "iopub.execute_input": "2022-04-05T16:40:53.908409Z",
     "iopub.status.busy": "2022-04-05T16:40:53.908239Z",
     "iopub.status.idle": "2022-04-05T16:40:54.119559Z",
     "shell.execute_reply": "2022-04-05T16:40:54.119177Z",
     "shell.execute_reply.started": "2022-04-05T16:40:53.908387Z"
    }
   },
   "outputs": [
    {
     "data": {
      "text/plain": [
       "91.58"
      ]
     },
     "execution_count": 16,
     "metadata": {},
     "output_type": "execute_result"
    }
   ],
   "source": [
    "#random_forest\n",
    "random_forest = RandomForestClassifier(n_estimators=100)\n",
    "random_forest.fit(X_train, Y_train)\n",
    "Y_pred_RF = random_forest.predict(X_test)\n",
    "random_forest.score(X_train, Y_train)\n",
    "acc_random_forest = round(random_forest.score(X_train, Y_train) * 100,2)\n",
    "acc_random_forest"
   ]
  },
  {
   "cell_type": "markdown",
   "metadata": {},
   "source": [
    "### Save results to file"
   ]
  },
  {
   "cell_type": "code",
   "execution_count": 17,
   "metadata": {
    "execution": {
     "iopub.execute_input": "2022-04-05T16:40:54.120544Z",
     "iopub.status.busy": "2022-04-05T16:40:54.120323Z",
     "iopub.status.idle": "2022-04-05T16:40:54.129094Z",
     "shell.execute_reply": "2022-04-05T16:40:54.128658Z",
     "shell.execute_reply.started": "2022-04-05T16:40:54.120523Z"
    }
   },
   "outputs": [],
   "source": [
    "# Get the PassengerId column from the original csv\n",
    "test_df_IDs = pd.read_csv('./input/test.csv')\n",
    "# Create a submission dataframe\n",
    "my_submission = pd.DataFrame({'PassengerId': test_df_IDs['PassengerId'], 'Survived': Y_pred_LR})\n",
    "# Save the submission as .csv file\n",
    "my_submission.to_csv('./output/submission.csv', index=False)"
   ]
  }
 ],
 "metadata": {
  "kernelspec": {
   "display_name": "Python 3 (ipykernel)",
   "language": "python",
   "name": "python3"
  },
  "language_info": {
   "codemirror_mode": {
    "name": "ipython",
    "version": 3
   },
   "file_extension": ".py",
   "mimetype": "text/x-python",
   "name": "python",
   "nbconvert_exporter": "python",
   "pygments_lexer": "ipython3",
   "version": "3.9.7"
  }
 },
 "nbformat": 4,
 "nbformat_minor": 4
}
